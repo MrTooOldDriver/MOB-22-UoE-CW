{
 "cells": [
  {
   "cell_type": "markdown",
   "metadata": {},
   "source": [
    "## Camera Calibration (15 marks)\n",
    "----\n",
    "\n",
    "In this section, we provide 40 images of 3D checkerboards from a video for camera calibration. You can find these images in the \"data/camera_calib\" folder. These frames contain two checkerboards with 20 mm and 40 mm grid sizes. Image 01\\~14 is the checkerboard with a grid size of 40 mm, and image 15\\~40 is the checkerboard with a grid size of 20 mm. The images are taken from different angles with different surroundings.    \n",
    "\n",
    "\n",
    "\n",
    "The tasks you need to complete are:\n",
    "* Choose **one image** for the calibration and explain why you choose it. (5 marks)\n",
    "* After the chosen, please use this image to calibrate the camera, which needs to calculate the intrinsic matrix $\\mathbf{K}$, rotation matrix $\\mathbf{R}$, and translation vector $\\mathbf{t}$. (10 marks)\n",
    "\n",
    "#### The camera calibration process:\n",
    "---\n",
    "1. Detect keypoints of the checkerboard\n",
    "2. Fix the world coordinate and get the corresponding keypoints world coordinate. **Please fix the world coordinate as a right-handed coordinate and z-axis up (example as follow)**\n",
    "\n",
    "<table>\n",
    "<td> \n",
    "<img src='./data/checkerboard/checkerboard_1.png' style='zoom:50%' ><br>\n",
    "</td> \n",
    "<td> \n",
    "<img src='./data/checkerboard/checkerboard_2.png' style='zoom:50%' > \n",
    "</td> \n",
    "</table>\n",
    "<caption><center> Figure 1: two checkerboards and the world coordinates</center></caption>\n",
    "\n",
    "3. Generate equations with 3D-2D matching pair\n",
    "4. Solve projection matrix $\\mathbf{P}$ with equations\n",
    "5. Decompose $\\mathbf{K}$,$\\mathbf{R}$, $\\mathbf{t}$ from $\\mathbf{P}$\n",
    "\n",
    "Please follow the steps and complete the camera calibration using the image you have chosen."
   ]
  },
  {
   "cell_type": "markdown",
   "metadata": {},
   "source": [
    "\n",
    "### Task 1 : Choose **one image** for the calibration and explain why you choose it. (5 marks)\n",
    "----\n",
    "Please type your answer here \n",
    "...\n"
   ]
  },
  {
   "cell_type": "markdown",
   "metadata": {},
   "source": [
    "### Task 2 : Calculate the intrinsic matrix $\\mathbf{K}$, rotation matrix $\\mathbf{R}$, and translation vector $\\mathbf{t}$. (10 marks)\n",
    "----\n",
    "please code below to calculate the required parameters and enter your final result of $\\mathbf{K}$, $\\mathbf{R}$, $\\mathbf{t}$ here\n",
    "...\n",
    "\n",
    "Tips: Tutorial 1 can be the reference. "
   ]
  },
  {
   "cell_type": "code",
   "execution_count": null,
   "metadata": {},
   "outputs": [],
   "source": [
    "import numpy as np \n",
    "import cv2\n",
    "import matplotlib.pyplot as plt\n",
    "\n",
    "img=cv2.imread()   # load the image you choose\n",
    "checkerboard_size=(,)   # Number of inner corners per a chessboard row/column, which will be use in cv2.findChessboardCorners()\n",
    "checkerboard_length=    # the board grid size you choose\n"
   ]
  },
  {
   "cell_type": "code",
   "execution_count": null,
   "metadata": {},
   "outputs": [],
   "source": []
  }
 ],
 "metadata": {
  "kernelspec": {
   "display_name": "Python 3 (ipykernel)",
   "language": "python",
   "name": "python3"
  },
  "language_info": {
   "codemirror_mode": {
    "name": "ipython",
    "version": 3
   },
   "file_extension": ".py",
   "mimetype": "text/x-python",
   "name": "python",
   "nbconvert_exporter": "python",
   "pygments_lexer": "ipython3",
   "version": "3.7.8"
  },
  "vscode": {
   "interpreter": {
    "hash": "3fe50b56c584b9860192ff168a5fc3a22954deaf7024fb58e215b6b32585ae4c"
   }
  }
 },
 "nbformat": 4,
 "nbformat_minor": 2
}
